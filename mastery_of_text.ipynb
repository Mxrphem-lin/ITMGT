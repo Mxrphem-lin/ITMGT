{
 "cells": [
  {
   "cell_type": "code",
   "execution_count": 18,
   "id": "b947a05a-4eea-465c-8a45-5804fec13553",
   "metadata": {},
   "outputs": [
    {
     "name": "stdout",
     "output_type": "stream",
     "text": [
      "99968 lines\n",
      "824538 words\n",
      "47 instances of the world apostle\n",
      "the 64298\n",
      "Most common word: the, 64298\n"
     ]
    }
   ],
   "source": [
    "import urllib\n",
    "\n",
    "url = \"https://www.gutenberg.org/cache/epub/10/pg10.txt\"\n",
    "\n",
    "with urllib.request.urlopen(url) as response:\n",
    "    pg10 = response.read().decode(\"utf-8\")\n",
    "\n",
    "lines = len(pg10.splitlines())\n",
    "\n",
    "#how many lines in the string\n",
    "print(f\"{lines} lines\") \n",
    "\n",
    "words = 0\n",
    "\n",
    "words_pg10 = pg10.split()\n",
    "\n",
    "for word in words_pg10:\n",
    "    words += 1\n",
    "\n",
    "#how many words in the string\n",
    "print(f\"{words} words\") \n",
    "\n",
    "apostle_count = 0\n",
    "\n",
    "for word in words_pg10:\n",
    "    word = word.strip(\".,!?;:\")\n",
    "    if word == \"apostle\" or word == \"Apostle\":\n",
    "        apostle_count += 1\n",
    "\n",
    "#how many times apostle appears\n",
    "print(f\"{apostle_count} instances of the world apostle\") \n",
    "\n",
    "uniques = []\n",
    "cleaned = []\n",
    "\n",
    "for word in words_pg10:\n",
    "    word = word.strip(\".,!?;:\").lower()\n",
    "    cleaned.append(word)\n",
    "    if word not in uniques:\n",
    "        uniques.append(word)\n",
    "\n",
    "counts = []\n",
    "for unique in uniques:\n",
    "    count = 0\n",
    "    for word in cleaned:\n",
    "        if word == unique:\n",
    "            count += 1\n",
    "    counts.append((count, unique))\n",
    "\n",
    "counts.sort()\n",
    "counts.reverse()\n",
    "\n",
    "#most common word and amount of times it appears\n",
    "count, word = counts[0]\n",
    "print(f\"Most common word: {word}, {count} instances\")  \n",
    "\n",
    "\n",
    "\n",
    "    "
   ]
  },
  {
   "cell_type": "code",
   "execution_count": null,
   "id": "13b476e2-d750-4a8e-a102-44c28183992d",
   "metadata": {},
   "outputs": [],
   "source": []
  }
 ],
 "metadata": {
  "kernelspec": {
   "display_name": "Python [conda env:base] *",
   "language": "python",
   "name": "conda-base-py"
  },
  "language_info": {
   "codemirror_mode": {
    "name": "ipython",
    "version": 3
   },
   "file_extension": ".py",
   "mimetype": "text/x-python",
   "name": "python",
   "nbconvert_exporter": "python",
   "pygments_lexer": "ipython3",
   "version": "3.13.5"
  }
 },
 "nbformat": 4,
 "nbformat_minor": 5
}
